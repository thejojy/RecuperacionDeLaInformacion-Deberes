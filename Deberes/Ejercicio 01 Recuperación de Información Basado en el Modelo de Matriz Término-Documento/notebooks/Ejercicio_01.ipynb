{
  "nbformat": 4,
  "nbformat_minor": 0,
  "metadata": {
    "colab": {
      "provenance": []
    },
    "kernelspec": {
      "name": "python3",
      "display_name": "Python 3"
    },
    "language_info": {
      "name": "python"
    }
  },
  "cells": [
    {
      "cell_type": "markdown",
      "source": [
        "# Ejercicio 01: Recuperación de Información Basado en el Modelo de Matriz Término-Documento\n",
        "\n",
        "En este ejercicio, trabajaremos con un corpus de documentos en formato JSON para implementar un sistema de Recuperación de Información basado en el modelo de espacio vectorial. Seguirás los siguientes pasos:"
      ],
      "metadata": {
        "id": "fSeBNeHEV_cg"
      }
    },
    {
      "cell_type": "markdown",
      "source": [
        "## Paso 1: Determinar un vocabulario"
      ],
      "metadata": {
        "id": "TY7M1sgfWOwO"
      }
    },
    {
      "cell_type": "markdown",
      "source": [
        "El primer paso es cargar el corpus en formato JSON, extraer los textos de los documentos y crear el vocabulario."
      ],
      "metadata": {
        "id": "zW__RSGFWSOC"
      }
    },
    {
      "cell_type": "code",
      "source": [
        "import json\n",
        "\n",
        "# Inicializamos una lista vacía para almacenar los datos que se leerán del archivo JSON\n",
        "datos = []\n",
        "\n",
        "# Abrimos el archivo JSON ubicado en Google Drive en modo lectura ('r') y con codificación UTF-8\n",
        "# Este archivo contiene la base de datos o corpus necesario para el ejercicio\n",
        "with open(file='/content/drive/MyDrive/Universidad/Recuperacion informacion/Deberes/Ejercicio 01: Recuperación de Información Basado en el Modelo de Matriz Término-Documento/data/01tdmatrix_corpus.json', mode='r', encoding='utf-8') as file:\n",
        "\n",
        "    # Cargamos el contenido del archivo JSON en la lista 'datos'\n",
        "    datos = json.load(file)\n"
      ],
      "metadata": {
        "id": "ot22GmhTV4d6"
      },
      "execution_count": 1,
      "outputs": []
    },
    {
      "cell_type": "code",
      "source": [
        "datos"
      ],
      "metadata": {
        "id": "bNxpnZxBV-g4",
        "colab": {
          "base_uri": "https://localhost:8080/"
        },
        "outputId": "f643f40c-a33e-457e-efc5-a08b32258316"
      },
      "execution_count": 2,
      "outputs": [
        {
          "output_type": "execute_result",
          "data": {
            "text/plain": [
              "[{'id': 1,\n",
              "  'date': '2024-10-21',\n",
              "  'text': 'La inteligencia artificial continúa avanzando rápidamente, transformando sectores como la salud y las finanzas. Las empresas están adoptando algoritmos de aprendizaje automático para mejorar la eficiencia. Sin embargo, el desafío principal sigue siendo garantizar que las decisiones basadas en datos sean justas y no perpetúen sesgos. La ética es fundamental en este contexto.',\n",
              "  'keywords': ['inteligencia artificial',\n",
              "   'salud',\n",
              "   'finanzas',\n",
              "   'algoritmos',\n",
              "   'ética']},\n",
              " {'id': 2,\n",
              "  'date': '2024-10-21',\n",
              "  'text': 'El desarrollo de videojuegos ha alcanzado un nuevo nivel con tecnologías como la realidad aumentada y la inteligencia artificial. Los jugadores ahora pueden interactuar en mundos virtuales más inmersivos. Este crecimiento también impulsa el mercado de los e-sports, donde las competencias profesionales atraen a millones de espectadores en todo el mundo.',\n",
              "  'keywords': ['videojuegos',\n",
              "   'realidad aumentada',\n",
              "   'inteligencia artificial',\n",
              "   'e-sports',\n",
              "   'competencias']},\n",
              " {'id': 3,\n",
              "  'date': '2024-10-21',\n",
              "  'text': 'El comercio electrónico ha cambiado la forma en que compramos. Con la creciente demanda de compras en línea, las empresas están optimizando sus plataformas digitales para ofrecer mejores experiencias de usuario. Desde recomendaciones personalizadas hasta pagos rápidos, los avances en tecnología siguen facilitando las transacciones diarias de los consumidores.',\n",
              "  'keywords': ['comercio electrónico',\n",
              "   'compras en línea',\n",
              "   'plataformas digitales',\n",
              "   'recomendaciones',\n",
              "   'tecnología']},\n",
              " {'id': 4,\n",
              "  'date': '2024-10-21',\n",
              "  'text': 'La educación a distancia ha permitido a millones de estudiantes acceder a programas de calidad sin importar su ubicación. La flexibilidad es uno de los mayores beneficios, especialmente para aquellos con trabajos a tiempo completo. Aunque la falta de interacción presencial es un reto, las herramientas digitales siguen mejorando la experiencia educativa.',\n",
              "  'keywords': ['educación a distancia',\n",
              "   'programas de calidad',\n",
              "   'flexibilidad',\n",
              "   'herramientas digitales']},\n",
              " {'id': 5,\n",
              "  'date': '2024-10-21',\n",
              "  'text': 'El cine ha evolucionado con los años, incorporando efectos visuales cada vez más realistas. Las producciones cinematográficas utilizan tecnologías avanzadas para crear escenas que desafían la realidad. Además, el acceso a plataformas de streaming ha transformado cómo y cuándo el público consume contenido, democratizando el acceso a películas y series.',\n",
              "  'keywords': ['cine',\n",
              "   'efectos visuales',\n",
              "   'tecnologías avanzadas',\n",
              "   'streaming',\n",
              "   'contenido']},\n",
              " {'id': 6,\n",
              "  'date': '2024-10-21',\n",
              "  'text': 'La ciencia ficción es uno de los géneros literarios más populares, explorando temas como el viaje en el tiempo, la inteligencia artificial y la vida en otros planetas. Este género no solo entretiene, sino que también invita a reflexionar sobre el futuro de la humanidad y las implicaciones de los avances tecnológicos.',\n",
              "  'keywords': ['ciencia ficción',\n",
              "   'viaje en el tiempo',\n",
              "   'inteligencia artificial',\n",
              "   'tecnología',\n",
              "   'humanidad']},\n",
              " {'id': 7,\n",
              "  'date': '2024-10-21',\n",
              "  'text': 'El desarrollo personal se ha convertido en una prioridad para muchas personas que buscan mejorar su calidad de vida. Desde la adopción de hábitos saludables hasta el aprendizaje de nuevas habilidades, el enfoque en el crecimiento individual ha llevado a un aumento en la demanda de libros, cursos y aplicaciones que promueven el bienestar integral.',\n",
              "  'keywords': ['desarrollo personal',\n",
              "   'hábitos saludables',\n",
              "   'crecimiento individual',\n",
              "   'bienestar',\n",
              "   'habilidades']},\n",
              " {'id': 8,\n",
              "  'date': '2024-10-21',\n",
              "  'text': 'Los avances en la medicina están cambiando la forma en que se diagnostican y tratan las enfermedades. Desde la telemedicina hasta los dispositivos portátiles que monitorean la salud en tiempo real, la tecnología está permitiendo a los médicos ofrecer cuidados más personalizados. El futuro de la medicina es prometedor, con tratamientos más accesibles y eficaces.',\n",
              "  'keywords': ['medicina',\n",
              "   'diagnóstico',\n",
              "   'telemedicina',\n",
              "   'dispositivos portátiles',\n",
              "   'tratamientos']}]"
            ]
          },
          "metadata": {},
          "execution_count": 2
        }
      ]
    },
    {
      "cell_type": "code",
      "source": [
        "# Imprime el contenido del campo 'text' en minúsculas del primer elemento en la lista 'datos'\n",
        "print(datos[0]['text'].lower())"
      ],
      "metadata": {
        "colab": {
          "base_uri": "https://localhost:8080/"
        },
        "id": "GxDFi8xaZG2L",
        "outputId": "fb8cd0fd-bc01-481b-d443-a07d5d5f0dd0"
      },
      "execution_count": 3,
      "outputs": [
        {
          "output_type": "stream",
          "name": "stdout",
          "text": [
            "la inteligencia artificial continúa avanzando rápidamente, transformando sectores como la salud y las finanzas. las empresas están adoptando algoritmos de aprendizaje automático para mejorar la eficiencia. sin embargo, el desafío principal sigue siendo garantizar que las decisiones basadas en datos sean justas y no perpetúen sesgos. la ética es fundamental en este contexto.\n"
          ]
        }
      ]
    },
    {
      "cell_type": "code",
      "source": [
        "# Convierte el texto del primer documento en un conjunto de palabras únicas en minúsculas\n",
        "# Primero convierte el texto a minúsculas y luego lo divide en palabras individuales con 'split()'\n",
        "vocab = set(datos[0]['text'].lower().split())\n",
        "\n",
        "# Imprime el vocabulario único encontrado en el primer documento\n",
        "print(vocab)\n",
        "\n",
        "# Imprime la cantidad total de palabras únicas (tamaño del vocabulario) en el primer documento\n",
        "print(len(vocab))\n"
      ],
      "metadata": {
        "colab": {
          "base_uri": "https://localhost:8080/"
        },
        "id": "dfIQY1cDZSm1",
        "outputId": "69260612-c671-4a76-d22a-6ab33ec45115"
      },
      "execution_count": 4,
      "outputs": [
        {
          "output_type": "stream",
          "name": "stdout",
          "text": [
            "{'continúa', 'la', 'transformando', 'basadas', 'ética', 'como', 'empresas', 'para', 'principal', 'en', 'sesgos.', 'automático', 'mejorar', 'aprendizaje', 'algoritmos', 'eficiencia.', 'que', 'sectores', 'están', 'siendo', 'finanzas.', 'este', 'inteligencia', 'rápidamente,', 'adoptando', 'garantizar', 'sigue', 'las', 'y', 'decisiones', 'datos', 'es', 'contexto.', 'desafío', 'justas', 'avanzando', 'artificial', 'fundamental', 'no', 'perpetúen', 'el', 'sin', 'sean', 'de', 'embargo,', 'salud'}\n",
            "46\n"
          ]
        }
      ]
    },
    {
      "cell_type": "code",
      "source": [
        "# Inicializa una lista vacía para almacenar todas las palabras de todos los documentos en 'datos'\n",
        "vocab = []\n",
        "\n",
        "# Itera a través de cada documento en 'datos'\n",
        "for i in range(0, len(datos)):\n",
        "\n",
        "    # Convierte el texto de cada documento a minúsculas, elimina comas y puntos\n",
        "    # Luego divide el texto en palabras y las agrega a la lista 'vocab'\n",
        "    vocab.extend(datos[i]['text'].lower().replace(',', '').replace('.', '').split())\n",
        "\n",
        "# Convierte la lista 'vocab' en un conjunto para obtener solo las palabras únicas (eliminando duplicados)\n",
        "vocab = set(vocab)\n",
        "\n",
        "# Imprime el número total de palabras únicas en todo el corpus\n",
        "print(len(vocab))\n",
        "\n",
        "# Imprime el vocabulario único de todo el corpus\n",
        "print(vocab)\n"
      ],
      "metadata": {
        "colab": {
          "base_uri": "https://localhost:8080/"
        },
        "id": "H3FReutnZ8Y-",
        "outputId": "db114bca-c33b-4719-8411-dd01ad7f0962"
      },
      "execution_count": 5,
      "outputs": [
        {
          "output_type": "stream",
          "name": "stdout",
          "text": [
            "230\n",
            "{'la', 'como', 'una', 'en', 'sesgos', 'ubicación', 'forma', 'automático', 'médicos', 'mejorar', 'videojuegos', 'transformado', 'mercado', 'aumentada', 'también', 'mayores', 'personal', 'ofrecer', 'contexto', 'promueven', 'distancia', 'inteligencia', 'todo', 'futuro', 'dispositivos', 'medicina', 'permitido', 'sigue', 'convertido', 'usuario', 'las', 'saludables', 'consume', 'trabajos', 'nivel', 'siguen', 'aplicaciones', 'desafío', 'diarias', 'justas', 'películas', 'tecnologías', 'literarios', 'aunque', 'eficiencia', 'avanzadas', 'experiencia', 'individual', 'permitiendo', 'género', 'mundos', 'buscan', 'desde', 'series', 'rápidos', 'línea', 'vez', 'continúa', 'alcanzado', 'profesionales', 'tecnología', 'cómo', 'personas', 'basadas', 'ética', 'cursos', 'tratamientos', 'especialmente', 'humanidad', 'falta', 'impulsa', 'crecimiento', 'ficción', 'invita', 'aprendizaje', 'inmersivos', 'viaje', 'ha', 'producciones', 'años', 'nuevo', 'desafían', 'mejores', 'utilizan', 'prometedor', 'llevado', 'explorando', 'incorporando', 'más', 'nuevas', 'estudiantes', 'electrónico', 'plataformas', 'calidad', 'a', 'fundamental', 'libros', 'demanda', 'no', 'perpetúen', 'vida', 'recomendaciones', 'otros', 'un', 'sin', 'millones', 'escenas', 'virtuales', 'solo', 'jugadores', 'crear', 'cada', 'además', 'está', 'cuándo', 'avances', 'herramientas', 'transformando', 'cuidados', 'competencias', 'embargo', 'principal', 'espectadores', 'efectos', 'portátiles', 'géneros', 'público', 'aquellos', 'comercio', 'optimizando', 'consumidores', 'flexibilidad', 'algoritmos', 'mundo', 'que', 'sectores', 'programas', 'aumento', 'están', 'democratizando', 'habilidades', 'acceso', 'temas', 'garantizar', 'facilitando', 'ahora', 'compramos', 'experiencias', 'pagos', 'importar', 'ciencia', 'bienestar', 'y', 'donde', 'datos', 'es', 'tratan', 'personalizadas', 'con', 'accesibles', 'entretiene', 'integral', 'avanzando', 'adopción', 'mejorando', 'tiempo', 'artificial', 'telemedicina', 'el', 'personalizados', 'reto', 'visuales', 'muchas', 'hábitos', 'sean', 'desarrollo', 'hasta', 'enfermedades', 'finanzas', 'los', 'tecnológicos', 'interacción', 'salud', 'monitorean', 'presencial', 'interactuar', 'cambiando', 'empresas', 'para', 'reflexionar', 'acceder', 'cambiado', 'uno', 'populares', 'sus', 'rápidamente', 'educativa', 'cine', 'siendo', 'compras', 'este', 'real', 'adoptando', 'sobre', 'streaming', 'enfoque', 'eficaces', 'e-sports', 'decisiones', 'su', 'beneficios', 'planetas', 'prioridad', 'digitales', 'realistas', 'atraen', 'contenido', 'cinematográficas', 'sino', 'completo', 'creciente', 'implicaciones', 'evolucionado', 'se', 'realidad', 'de', 'pueden', 'educación', 'transacciones', 'diagnostican'}\n"
          ]
        }
      ]
    },
    {
      "cell_type": "markdown",
      "source": [
        "## Paso 2: Calcular una matriz término-documento\n",
        "\n",
        "Una vez que tenemos el vocabulario, el siguiente paso es construir una matriz término-documento, que nos permitirá representar cada documento como un vector en el espacio de términos."
      ],
      "metadata": {
        "id": "pLj-V3DZaYA0"
      }
    },
    {
      "cell_type": "code",
      "source": [
        "# Define una función 'tdtransform' que transforma un texto en un vector de términos en formato binario\n",
        "def tdtransform(text):\n",
        "\n",
        "    # Inicializa una lista vacía para almacenar el vector binario del documento\n",
        "    doc = []\n",
        "\n",
        "    # Itera sobre cada palabra en el vocabulario global 'vocab'\n",
        "    for word in vocab:\n",
        "\n",
        "        # Verifica si la palabra actual está en el texto, después de convertirlo a minúsculas,\n",
        "        # eliminando comas y puntos, y dividiéndolo en palabras\n",
        "        if word in text.lower().replace(',', '').replace('.', '').split():\n",
        "\n",
        "            # Si la palabra está presente en el texto, añade un '1' al vector binario\n",
        "            doc.append(1)\n",
        "        else:\n",
        "\n",
        "            # Si la palabra no está presente, añade un '0' al vector binario\n",
        "            doc.append(0)\n",
        "\n",
        "    # Devuelve el vector binario representando la presencia o ausencia de cada palabra del vocabulario en el texto\n",
        "    return doc\n"
      ],
      "metadata": {
        "id": "vHk92D7CafTJ"
      },
      "execution_count": 6,
      "outputs": []
    },
    {
      "cell_type": "code",
      "source": [
        "# Inicializa una lista vacía para almacenar la matriz término-documento\n",
        "tdmatrix = []\n",
        "\n",
        "# Itera a través de cada documento en 'datos'\n",
        "for i in range(0, len(datos)):\n",
        "\n",
        "    # Transforma el texto del documento actual en un vector binario usando la función 'tdtransform'\n",
        "    doc = tdtransform(text=datos[i]['text'])\n",
        "\n",
        "    # Agrega el vector binario del documento a la matriz término-documento\n",
        "    tdmatrix.append(doc)\n",
        "\n",
        "# Imprime la matriz término-documento completa, donde cada fila representa un documento\n",
        "# y cada columna indica la presencia (1) o ausencia (0) de una palabra en el vocabulario\n",
        "print(tdmatrix)\n"
      ],
      "metadata": {
        "colab": {
          "base_uri": "https://localhost:8080/"
        },
        "id": "lKwXZNbSa6i1",
        "outputId": "3b80a19e-ea91-43aa-fb4e-be88ab3dfef9"
      },
      "execution_count": 7,
      "outputs": [
        {
          "output_type": "stream",
          "name": "stdout",
          "text": [
            "[[1, 1, 0, 1, 1, 0, 0, 1, 0, 1, 0, 0, 0, 0, 0, 0, 0, 0, 1, 0, 0, 1, 0, 0, 0, 0, 0, 1, 0, 0, 1, 0, 0, 0, 0, 0, 0, 1, 0, 1, 0, 0, 0, 0, 1, 0, 0, 0, 0, 0, 0, 0, 0, 0, 0, 0, 0, 1, 0, 0, 0, 0, 0, 1, 1, 0, 0, 0, 0, 0, 0, 0, 0, 0, 1, 0, 0, 0, 0, 0, 0, 0, 0, 0, 0, 0, 0, 0, 0, 0, 0, 0, 0, 0, 0, 1, 0, 0, 1, 1, 0, 0, 0, 0, 1, 0, 0, 0, 0, 0, 0, 0, 0, 0, 0, 0, 0, 1, 0, 0, 1, 1, 0, 0, 0, 0, 0, 0, 0, 0, 0, 0, 1, 0, 1, 1, 0, 0, 1, 0, 0, 0, 0, 1, 0, 0, 0, 0, 0, 0, 0, 0, 1, 0, 1, 1, 0, 0, 0, 0, 0, 0, 1, 0, 0, 0, 1, 0, 1, 0, 0, 0, 0, 0, 1, 0, 0, 0, 1, 0, 0, 0, 1, 0, 0, 0, 0, 1, 1, 0, 0, 0, 0, 0, 0, 1, 0, 0, 1, 0, 1, 0, 1, 0, 0, 0, 0, 0, 1, 0, 0, 0, 0, 0, 0, 0, 0, 0, 0, 0, 0, 0, 0, 0, 0, 1, 0, 0, 0, 0], [1, 1, 0, 1, 0, 0, 0, 0, 0, 0, 1, 0, 1, 1, 1, 0, 0, 0, 0, 0, 0, 1, 1, 0, 0, 0, 0, 0, 0, 0, 1, 0, 0, 0, 1, 0, 0, 0, 0, 0, 0, 1, 0, 0, 0, 0, 0, 0, 0, 0, 1, 0, 0, 0, 0, 0, 0, 0, 1, 1, 0, 0, 0, 0, 0, 0, 0, 0, 0, 0, 1, 1, 0, 0, 0, 1, 0, 1, 0, 0, 1, 0, 0, 0, 0, 0, 0, 0, 1, 0, 0, 0, 0, 0, 1, 0, 0, 0, 0, 0, 0, 0, 0, 1, 0, 1, 0, 1, 0, 1, 0, 0, 0, 0, 0, 0, 0, 0, 0, 1, 0, 0, 1, 0, 0, 0, 0, 0, 0, 0, 0, 0, 0, 1, 0, 0, 0, 0, 0, 0, 0, 0, 0, 0, 0, 1, 0, 0, 0, 0, 0, 0, 1, 1, 0, 0, 0, 0, 1, 0, 0, 0, 0, 0, 0, 0, 1, 0, 1, 0, 0, 0, 0, 0, 0, 1, 0, 0, 0, 1, 0, 0, 0, 0, 0, 1, 0, 0, 0, 0, 0, 0, 0, 0, 0, 0, 0, 0, 0, 0, 1, 0, 0, 0, 0, 0, 0, 1, 0, 0, 0, 0, 0, 0, 0, 1, 0, 0, 0, 0, 0, 0, 0, 0, 1, 1, 1, 0, 0, 0], [1, 0, 0, 1, 0, 0, 1, 0, 0, 0, 0, 0, 0, 0, 0, 0, 0, 1, 0, 0, 0, 0, 0, 0, 0, 0, 0, 0, 0, 1, 1, 0, 0, 0, 0, 1, 0, 0, 1, 0, 0, 0, 0, 0, 0, 0, 0, 0, 0, 0, 0, 0, 1, 0, 1, 1, 0, 0, 0, 0, 1, 0, 0, 0, 0, 0, 0, 0, 0, 0, 0, 0, 0, 0, 0, 0, 0, 1, 0, 0, 0, 0, 1, 0, 0, 0, 0, 0, 0, 0, 0, 1, 1, 0, 0, 0, 0, 1, 0, 0, 0, 1, 0, 0, 0, 0, 0, 0, 0, 0, 0, 0, 0, 0, 0, 1, 0, 0, 0, 0, 0, 0, 0, 0, 0, 0, 0, 0, 1, 1, 1, 0, 0, 0, 1, 0, 0, 0, 1, 0, 0, 0, 0, 0, 1, 0, 1, 1, 1, 0, 0, 0, 0, 0, 0, 0, 0, 1, 1, 0, 0, 0, 0, 0, 0, 0, 0, 0, 1, 0, 0, 0, 0, 0, 0, 0, 1, 0, 0, 1, 0, 0, 0, 0, 0, 0, 0, 1, 1, 0, 0, 1, 0, 0, 1, 0, 0, 0, 0, 1, 0, 0, 0, 0, 0, 0, 0, 0, 0, 0, 0, 0, 0, 1, 0, 0, 0, 0, 0, 0, 1, 0, 0, 0, 0, 1, 0, 0, 1, 0], [1, 0, 0, 0, 0, 1, 0, 0, 0, 0, 0, 0, 0, 0, 0, 1, 0, 0, 0, 0, 1, 0, 0, 0, 0, 0, 1, 0, 0, 0, 1, 0, 0, 1, 0, 1, 0, 0, 0, 0, 0, 0, 0, 1, 0, 0, 1, 0, 0, 0, 0, 0, 0, 0, 0, 0, 0, 0, 0, 0, 0, 0, 0, 0, 0, 0, 0, 1, 0, 1, 0, 0, 0, 0, 0, 0, 0, 1, 0, 0, 0, 0, 0, 0, 0, 0, 0, 0, 0, 0, 1, 0, 0, 1, 1, 0, 0, 0, 0, 0, 0, 0, 0, 1, 1, 1, 0, 0, 0, 0, 0, 0, 0, 0, 0, 0, 1, 0, 0, 0, 0, 0, 0, 0, 0, 0, 0, 1, 0, 0, 0, 1, 0, 0, 0, 0, 1, 0, 0, 0, 0, 0, 0, 0, 0, 0, 0, 0, 0, 1, 0, 0, 0, 0, 0, 1, 0, 0, 1, 0, 0, 0, 0, 0, 1, 1, 0, 0, 0, 0, 1, 0, 0, 0, 0, 0, 0, 0, 0, 1, 0, 1, 0, 0, 1, 0, 0, 0, 1, 0, 1, 0, 1, 0, 0, 0, 1, 0, 0, 0, 0, 0, 0, 0, 0, 0, 0, 0, 0, 1, 1, 0, 0, 1, 0, 0, 0, 0, 0, 1, 0, 0, 0, 0, 0, 1, 0, 1, 0, 0], [1, 0, 0, 0, 0, 0, 0, 0, 0, 0, 0, 1, 0, 0, 0, 0, 0, 0, 0, 0, 0, 0, 0, 0, 0, 0, 0, 0, 0, 0, 1, 0, 1, 0, 0, 0, 0, 0, 0, 0, 1, 1, 0, 0, 0, 1, 0, 0, 0, 0, 0, 0, 0, 1, 0, 0, 1, 0, 0, 0, 0, 1, 0, 0, 0, 0, 0, 0, 0, 0, 0, 0, 0, 0, 0, 0, 0, 1, 1, 1, 0, 1, 0, 1, 0, 0, 0, 1, 1, 0, 0, 0, 1, 0, 1, 0, 0, 0, 0, 0, 0, 0, 0, 0, 0, 0, 1, 0, 0, 0, 1, 1, 1, 0, 1, 0, 0, 0, 0, 0, 0, 0, 0, 1, 0, 0, 1, 0, 0, 0, 0, 0, 0, 0, 1, 0, 0, 0, 0, 1, 0, 1, 0, 0, 0, 0, 0, 0, 0, 0, 0, 0, 1, 0, 0, 0, 0, 0, 1, 0, 0, 0, 0, 0, 0, 0, 0, 0, 1, 0, 0, 1, 0, 0, 0, 0, 0, 0, 0, 1, 0, 0, 0, 0, 0, 0, 0, 0, 1, 0, 0, 0, 0, 0, 0, 0, 0, 1, 0, 0, 0, 0, 0, 0, 1, 0, 0, 0, 0, 0, 0, 0, 0, 0, 1, 0, 1, 1, 0, 0, 0, 0, 1, 0, 1, 1, 0, 0, 0, 0], [1, 1, 0, 1, 0, 0, 0, 0, 0, 0, 0, 0, 0, 0, 1, 0, 0, 0, 0, 0, 0, 1, 0, 1, 0, 0, 0, 0, 0, 0, 1, 0, 0, 0, 0, 0, 0, 0, 0, 0, 0, 0, 1, 0, 0, 0, 0, 0, 0, 1, 0, 0, 0, 0, 0, 0, 0, 0, 0, 0, 0, 0, 0, 0, 0, 0, 0, 0, 1, 0, 0, 0, 1, 1, 0, 0, 1, 0, 0, 0, 0, 0, 0, 0, 0, 0, 1, 0, 1, 0, 0, 0, 0, 0, 1, 0, 0, 0, 1, 0, 1, 0, 1, 0, 0, 0, 0, 0, 1, 0, 0, 0, 0, 0, 0, 1, 0, 0, 0, 0, 0, 0, 0, 0, 0, 1, 0, 0, 0, 0, 0, 0, 0, 0, 1, 0, 0, 0, 0, 0, 0, 0, 1, 0, 0, 0, 0, 0, 0, 0, 1, 0, 1, 0, 0, 1, 0, 0, 0, 0, 1, 0, 0, 0, 0, 1, 1, 0, 1, 0, 0, 0, 0, 0, 0, 0, 0, 0, 0, 1, 1, 0, 0, 0, 0, 0, 0, 0, 0, 1, 0, 0, 1, 1, 0, 0, 0, 0, 0, 0, 1, 0, 0, 1, 0, 0, 0, 0, 0, 0, 0, 1, 0, 0, 0, 0, 0, 0, 1, 0, 0, 1, 0, 0, 0, 1, 0, 0, 0, 0], [1, 0, 1, 1, 0, 0, 0, 0, 0, 1, 0, 0, 0, 0, 0, 0, 1, 0, 0, 1, 0, 0, 0, 0, 0, 0, 0, 0, 1, 0, 0, 1, 0, 0, 0, 0, 1, 0, 0, 0, 0, 0, 0, 0, 0, 0, 0, 1, 0, 0, 0, 1, 1, 0, 0, 0, 0, 0, 0, 0, 0, 0, 1, 0, 0, 1, 0, 0, 0, 0, 0, 1, 0, 0, 1, 0, 0, 1, 0, 0, 0, 0, 0, 0, 0, 1, 0, 0, 0, 1, 0, 0, 0, 1, 1, 0, 1, 1, 0, 0, 1, 0, 0, 1, 0, 0, 0, 0, 0, 0, 0, 0, 0, 0, 0, 0, 0, 0, 0, 0, 0, 0, 0, 0, 0, 0, 0, 0, 0, 0, 0, 0, 0, 0, 1, 0, 0, 1, 0, 0, 1, 0, 0, 0, 0, 0, 0, 0, 0, 0, 0, 1, 1, 0, 0, 0, 0, 0, 0, 0, 0, 1, 0, 1, 0, 0, 0, 0, 1, 0, 0, 0, 1, 1, 0, 1, 1, 0, 0, 0, 0, 0, 0, 0, 0, 0, 0, 0, 1, 0, 0, 0, 0, 0, 0, 0, 0, 0, 0, 0, 0, 0, 0, 0, 0, 1, 0, 0, 0, 1, 0, 0, 1, 0, 0, 0, 0, 0, 0, 0, 0, 0, 0, 1, 0, 1, 0, 0, 0, 0], [1, 0, 0, 1, 0, 0, 1, 0, 1, 0, 0, 0, 0, 0, 0, 0, 0, 1, 0, 0, 0, 0, 0, 1, 1, 1, 0, 0, 0, 0, 1, 0, 0, 0, 0, 0, 0, 0, 0, 0, 0, 0, 0, 0, 0, 0, 0, 0, 1, 0, 0, 0, 1, 0, 0, 0, 0, 0, 0, 0, 1, 0, 0, 0, 0, 0, 1, 0, 0, 0, 0, 0, 0, 0, 0, 0, 0, 0, 0, 0, 0, 0, 0, 0, 1, 0, 0, 0, 1, 0, 0, 0, 0, 0, 1, 0, 0, 0, 0, 0, 0, 0, 0, 0, 0, 0, 0, 0, 0, 0, 0, 0, 0, 1, 0, 1, 0, 0, 1, 0, 0, 0, 0, 0, 1, 0, 0, 0, 0, 0, 0, 0, 0, 0, 1, 0, 0, 0, 1, 0, 0, 0, 0, 0, 0, 0, 0, 0, 0, 0, 0, 0, 1, 0, 0, 1, 1, 0, 1, 1, 0, 0, 0, 0, 0, 1, 0, 1, 1, 1, 0, 0, 0, 0, 0, 0, 1, 1, 0, 1, 0, 0, 1, 1, 0, 0, 1, 0, 0, 0, 0, 0, 0, 0, 0, 0, 0, 0, 0, 0, 0, 1, 0, 0, 0, 0, 1, 0, 0, 0, 0, 0, 0, 0, 0, 0, 0, 0, 0, 0, 0, 0, 0, 1, 0, 1, 0, 0, 0, 1]]\n"
          ]
        }
      ]
    },
    {
      "cell_type": "markdown",
      "source": [
        "## Paso 3: Obtener una representación de una query en el espacio término-documento\n",
        "Ahora vamos a representar una query como un vector en el mismo espacio de términos que hicimos para el corpus."
      ],
      "metadata": {
        "id": "vKhQc8HvbMqF"
      }
    },
    {
      "cell_type": "code",
      "source": [
        "# Define una consulta de búsqueda como texto\n",
        "query = \"inteligencia artificial en medicina\"\n",
        "\n",
        "# Imprime el vector binario correspondiente a la consulta usando la función 'tdtransform'\n",
        "print(tdtransform(query))\n"
      ],
      "metadata": {
        "colab": {
          "base_uri": "https://localhost:8080/"
        },
        "id": "uW5j4o8TbL9X",
        "outputId": "f2de6fc7-3f65-4118-a63c-4afc2f6a0241"
      },
      "execution_count": 8,
      "outputs": [
        {
          "output_type": "stream",
          "name": "stdout",
          "text": [
            "[0, 0, 0, 1, 0, 0, 0, 0, 0, 0, 0, 0, 0, 0, 0, 0, 0, 0, 0, 0, 0, 1, 0, 0, 0, 1, 0, 0, 0, 0, 0, 0, 0, 0, 0, 0, 0, 0, 0, 0, 0, 0, 0, 0, 0, 0, 0, 0, 0, 0, 0, 0, 0, 0, 0, 0, 0, 0, 0, 0, 0, 0, 0, 0, 0, 0, 0, 0, 0, 0, 0, 0, 0, 0, 0, 0, 0, 0, 0, 0, 0, 0, 0, 0, 0, 0, 0, 0, 0, 0, 0, 0, 0, 0, 0, 0, 0, 0, 0, 0, 0, 0, 0, 0, 0, 0, 0, 0, 0, 0, 0, 0, 0, 0, 0, 0, 0, 0, 0, 0, 0, 0, 0, 0, 0, 0, 0, 0, 0, 0, 0, 0, 0, 0, 0, 0, 0, 0, 0, 0, 0, 0, 0, 0, 0, 0, 0, 0, 0, 0, 0, 0, 0, 0, 0, 0, 0, 0, 0, 0, 0, 0, 0, 0, 0, 0, 1, 0, 0, 0, 0, 0, 0, 0, 0, 0, 0, 0, 0, 0, 0, 0, 0, 0, 0, 0, 0, 0, 0, 0, 0, 0, 0, 0, 0, 0, 0, 0, 0, 0, 0, 0, 0, 0, 0, 0, 0, 0, 0, 0, 0, 0, 0, 0, 0, 0, 0, 0, 0, 0, 0, 0, 0, 0, 0, 0, 0, 0, 0, 0]\n"
          ]
        }
      ]
    },
    {
      "cell_type": "markdown",
      "source": [
        "# Paso 4: Calcular la distancia entre la query y todos los documentos del corpus\n",
        "\n",
        "Al obtener la distancia Jaccard entre la query y cada documento del corpus, calculamos la relevancia que tiene cada documento para la query"
      ],
      "metadata": {
        "id": "YkZN0LRJlbpj"
      }
    },
    {
      "cell_type": "code",
      "source": [
        "# Función para decolcer las distancias jaccard de la consulta dentro de cada documento\n",
        "def consulta(query):\n",
        "    # Calcula el vector de términos para la consulta\n",
        "    query_vector = tdtransform(query)\n",
        "\n",
        "    # Inicializa una lista vacía para almacenar las distancias de Jaccard\n",
        "    distances = [len(tdmatrix)]\n",
        "\n",
        "    # Itera a través de cada vector de términos en la matriz término-documento\n",
        "    for i in range(len(tdmatrix)):\n",
        "        # Calcula la distancia de Jaccard y la añade a la lista\n",
        "        distance = jaccard_distance(query_vector, tdmatrix[i])\n",
        "        distances.append(distance)\n",
        "\n",
        "    # Devuelve la lista de distancias\n",
        "    return distances\n",
        "\n",
        "\n",
        "#funcion para calcular la distancia de jaccard\n",
        "def jaccard_distance(vec1, vec2):\n",
        "    # Inicializa contadores para la intersección y la unión\n",
        "    interseccion = 0\n",
        "    union = 0\n",
        "\n",
        "    # Verifica que ambos vectores tengan la misma longitud\n",
        "    if len(vec1) != len(vec2):\n",
        "        return -1  # Retorna -1 si los vectores no coinciden en longitud\n",
        "\n",
        "    # Itera sobre los elementos de los vectores\n",
        "    for i in range(len(vec1)):\n",
        "        # Cuenta la intersección: ambos vectores tienen 1 en la misma posición\n",
        "        if vec1[i] == 1 and vec2[i] == 1:\n",
        "            interseccion += 1\n",
        "        # Cuenta la unión: al menos uno de los vectores tiene 1 en la posición\n",
        "        if vec1[i] == 1 or vec2[i] == 1:\n",
        "            union += 1\n",
        "\n",
        "    # Manejo de caso donde la unión es 0 para evitar división por cero\n",
        "    if union == 0:\n",
        "        return -1  # Retorna -1 si no hay elementos en común\n",
        "\n",
        "    # Imprime el número de intersecciones y uniones para depuración\n",
        "    #print(f\"Intersección: {interseccion}, Unión: {union}\")\n",
        "\n",
        "    # Retorna el coeficiente de Jaccard (intersección / unión)\n",
        "    return interseccion / union\n"
      ],
      "metadata": {
        "id": "wjMlNZ4gcmmf"
      },
      "execution_count": 13,
      "outputs": []
    },
    {
      "cell_type": "code",
      "source": [
        "# Calcula el vector de términos para la consulta\n",
        "query_vector = tdtransform(query)\n",
        "\n",
        "distances = consulta(query)\n",
        "\n",
        "# Imprime la distancia de Jaccard de la consulta con cada documento\n",
        "for i, dist in enumerate(distances):\n",
        "    print(f\"Distancia Jaccard entre la consulta y el documento {i}: {dist}\")"
      ],
      "metadata": {
        "colab": {
          "base_uri": "https://localhost:8080/"
        },
        "id": "sBiY6UJ8h8hl",
        "outputId": "2b0bdda0-d0f4-4999-e9da-0336831e444a"
      },
      "execution_count": 10,
      "outputs": [
        {
          "output_type": "stream",
          "name": "stdout",
          "text": [
            "Distancia Jaccard entre la consulta y el documento 0: 8\n",
            "Distancia Jaccard entre la consulta y el documento 1: 0.06382978723404255\n",
            "Distancia Jaccard entre la consulta y el documento 2: 0.06666666666666667\n",
            "Distancia Jaccard entre la consulta y el documento 3: 0.022222222222222223\n",
            "Distancia Jaccard entre la consulta y el documento 4: 0.0\n",
            "Distancia Jaccard entre la consulta y el documento 5: 0.0\n",
            "Distancia Jaccard entre la consulta y el documento 6: 0.06976744186046512\n",
            "Distancia Jaccard entre la consulta y el documento 7: 0.021739130434782608\n",
            "Distancia Jaccard entre la consulta y el documento 8: 0.045454545454545456\n"
          ]
        }
      ]
    },
    {
      "cell_type": "markdown",
      "source": [
        "# Paso 5: Entregar los resultados de la búsqueda al usuario\n",
        "\n",
        "A partir de la query, debemos indicar al usuario cuáles documentos son los más relevantes. Se debe presentar la información en orden de relevancia."
      ],
      "metadata": {
        "id": "TbwXmdfPmCGE"
      }
    },
    {
      "cell_type": "code",
      "source": [
        "def obtener_documentos_mas_relevantes(distances, n):\n",
        "    # Combina las distancias con sus índices\n",
        "    index_distance_pairs = list(enumerate(distances))\n",
        "\n",
        "    # Filtra distancias no válidas (por ejemplo, -1)\n",
        "    valid_pairs = [(index, dist) for index, dist in index_distance_pairs if dist != -1]\n",
        "\n",
        "    # Ordena las distancias de mayor a menor\n",
        "    valid_pairs.sort(key=lambda x: x[1], reverse=True)\n",
        "\n",
        "    # Extrae solo los pares (índice, distancia) de los documentos más relevantes\n",
        "    top_pairs = valid_pairs[:n]\n",
        "\n",
        "    return top_pairs\n",
        "\n"
      ],
      "metadata": {
        "id": "ywwlHEw5i3a4"
      },
      "execution_count": 11,
      "outputs": []
    },
    {
      "cell_type": "code",
      "source": [
        "# Realiza la consulta\n",
        "distances = consulta(query)\n",
        "\n",
        "# Obtener el documento más relevante (índice y distancia)\n",
        "documento_mas_relevante = obtener_documentos_mas_relevantes(distances, 1)\n",
        "print(f\"Documento más relevante: Índice: {documento_mas_relevante[0][0]}, Distancia Jaccard: {documento_mas_relevante[0][1]}\")\n",
        "\n",
        "# Obtener los 4 documentos más relevantes (índices y distancias)\n",
        "documentos_mas_relevantes = obtener_documentos_mas_relevantes(distances, 4)\n",
        "print(\"Los 4 documentos más relevantes son:\")\n",
        "for indice, distancia in documentos_mas_relevantes:\n",
        "    print(f\"Índice: {indice}, Distancia Jaccard: {distancia}\")\n"
      ],
      "metadata": {
        "colab": {
          "base_uri": "https://localhost:8080/"
        },
        "id": "a-NPakYSjlnc",
        "outputId": "3b5795aa-d35d-4459-dbef-d77e042c0517"
      },
      "execution_count": 12,
      "outputs": [
        {
          "output_type": "stream",
          "name": "stdout",
          "text": [
            "Documento más relevante: Índice: 0, Distancia Jaccard: 8\n",
            "Los 4 documentos más relevantes son:\n",
            "Índice: 0, Distancia Jaccard: 8\n",
            "Índice: 6, Distancia Jaccard: 0.06976744186046512\n",
            "Índice: 2, Distancia Jaccard: 0.06666666666666667\n",
            "Índice: 1, Distancia Jaccard: 0.06382978723404255\n"
          ]
        }
      ]
    }
  ]
}